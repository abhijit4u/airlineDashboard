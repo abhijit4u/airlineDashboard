{
 "cells": [
  {
   "cell_type": "code",
   "execution_count": 1,
   "metadata": {},
   "outputs": [],
   "source": [
    "import pandas as pd\n",
    "import numpy as np"
   ]
  },
  {
   "cell_type": "code",
   "execution_count": 2,
   "metadata": {},
   "outputs": [
    {
     "name": "stdout",
     "output_type": "stream",
     "text": [
      "Enter the Path of file \n",
      "C:\\Users\\abhij\\Attendance.xlsx\n"
     ]
    }
   ],
   "source": [
    "path1=str(input(\"Enter the Path of file \\n\"))"
   ]
  },
  {
   "cell_type": "code",
   "execution_count": 3,
   "metadata": {},
   "outputs": [],
   "source": [
    "df=pd.read_excel(path1)"
   ]
  },
  {
   "cell_type": "code",
   "execution_count": 4,
   "metadata": {},
   "outputs": [
    {
     "data": {
      "text/html": [
       "<div>\n",
       "<style scoped>\n",
       "    .dataframe tbody tr th:only-of-type {\n",
       "        vertical-align: middle;\n",
       "    }\n",
       "\n",
       "    .dataframe tbody tr th {\n",
       "        vertical-align: top;\n",
       "    }\n",
       "\n",
       "    .dataframe thead th {\n",
       "        text-align: right;\n",
       "    }\n",
       "</style>\n",
       "<table border=\"1\" class=\"dataframe\">\n",
       "  <thead>\n",
       "    <tr style=\"text-align: right;\">\n",
       "      <th></th>\n",
       "      <th>Timestamp</th>\n",
       "      <th>Email Address</th>\n",
       "      <th>Name of the Student</th>\n",
       "      <th>Roll of the Student</th>\n",
       "      <th>Number (Associated with Roll)</th>\n",
       "      <th>Date Attended Class</th>\n",
       "      <th>Subject Name</th>\n",
       "      <th>Your Feedback</th>\n",
       "      <th>WhatsApp Number</th>\n",
       "    </tr>\n",
       "  </thead>\n",
       "  <tbody>\n",
       "    <tr>\n",
       "      <th>0</th>\n",
       "      <td>2020-09-28 16:10:31.520</td>\n",
       "      <td>subhadipkarmakar104@gmail.com</td>\n",
       "      <td>subhadipkarmakar</td>\n",
       "      <td>20</td>\n",
       "      <td>20</td>\n",
       "      <td>2020-09-28</td>\n",
       "      <td>Electrical</td>\n",
       "      <td>Hi</td>\n",
       "      <td>NaN</td>\n",
       "    </tr>\n",
       "    <tr>\n",
       "      <th>1</th>\n",
       "      <td>2020-09-28 16:20:47.620</td>\n",
       "      <td>debashismondal2k@gmail.com</td>\n",
       "      <td>DEBASHIS MONDAL</td>\n",
       "      <td>10021971</td>\n",
       "      <td>NaN</td>\n",
       "      <td>2020-09-28</td>\n",
       "      <td>BASIS ELECTRONIC</td>\n",
       "      <td>NaN</td>\n",
       "      <td>NaN</td>\n",
       "    </tr>\n",
       "    <tr>\n",
       "      <th>2</th>\n",
       "      <td>2020-09-28 16:44:03.748</td>\n",
       "      <td>sayanpatra2001@gmail.com</td>\n",
       "      <td>Sayan patra</td>\n",
       "      <td>10021993</td>\n",
       "      <td>10021993</td>\n",
       "      <td>2020-09-28</td>\n",
       "      <td>Basic electronics</td>\n",
       "      <td>NaN</td>\n",
       "      <td>NaN</td>\n",
       "    </tr>\n",
       "    <tr>\n",
       "      <th>3</th>\n",
       "      <td>2020-09-28 16:45:53.970</td>\n",
       "      <td>sougataroy1451@gmail.com</td>\n",
       "      <td>Sougata Roy</td>\n",
       "      <td>10021997</td>\n",
       "      <td>NaN</td>\n",
       "      <td>2020-09-28</td>\n",
       "      <td>Basic Electronics</td>\n",
       "      <td>NaN</td>\n",
       "      <td>NaN</td>\n",
       "    </tr>\n",
       "    <tr>\n",
       "      <th>4</th>\n",
       "      <td>2020-09-28 16:47:40.752</td>\n",
       "      <td>sayansatpathy2003@gmail.com</td>\n",
       "      <td>Sayan satpathy</td>\n",
       "      <td>10021994</td>\n",
       "      <td>NaN</td>\n",
       "      <td>2020-09-28</td>\n",
       "      <td>Basic electronics</td>\n",
       "      <td>Good</td>\n",
       "      <td>NaN</td>\n",
       "    </tr>\n",
       "  </tbody>\n",
       "</table>\n",
       "</div>"
      ],
      "text/plain": [
       "                Timestamp                  Email Address Name of the Student  \\\n",
       "0 2020-09-28 16:10:31.520  subhadipkarmakar104@gmail.com    subhadipkarmakar   \n",
       "1 2020-09-28 16:20:47.620     debashismondal2k@gmail.com     DEBASHIS MONDAL   \n",
       "2 2020-09-28 16:44:03.748       sayanpatra2001@gmail.com         Sayan patra   \n",
       "3 2020-09-28 16:45:53.970       sougataroy1451@gmail.com         Sougata Roy   \n",
       "4 2020-09-28 16:47:40.752    sayansatpathy2003@gmail.com      Sayan satpathy   \n",
       "\n",
       "  Roll of the Student Number (Associated with Roll) Date Attended Class   \\\n",
       "0                  20                            20           2020-09-28   \n",
       "1            10021971                           NaN           2020-09-28   \n",
       "2            10021993                      10021993           2020-09-28   \n",
       "3            10021997                           NaN           2020-09-28   \n",
       "4            10021994                           NaN           2020-09-28   \n",
       "\n",
       "        Subject Name Your Feedback WhatsApp Number  \n",
       "0         Electrical            Hi             NaN  \n",
       "1   BASIS ELECTRONIC           NaN             NaN  \n",
       "2  Basic electronics           NaN             NaN  \n",
       "3  Basic Electronics           NaN             NaN  \n",
       "4  Basic electronics          Good             NaN  "
      ]
     },
     "execution_count": 4,
     "metadata": {},
     "output_type": "execute_result"
    }
   ],
   "source": [
    "df.head()"
   ]
  },
  {
   "cell_type": "code",
   "execution_count": 5,
   "metadata": {},
   "outputs": [],
   "source": [
    "df.drop_duplicates(['Name of the Student', 'Date Attended Class '],inplace=True)\n"
   ]
  },
  {
   "cell_type": "code",
   "execution_count": 6,
   "metadata": {},
   "outputs": [
    {
     "data": {
      "text/html": [
       "<div>\n",
       "<style scoped>\n",
       "    .dataframe tbody tr th:only-of-type {\n",
       "        vertical-align: middle;\n",
       "    }\n",
       "\n",
       "    .dataframe tbody tr th {\n",
       "        vertical-align: top;\n",
       "    }\n",
       "\n",
       "    .dataframe thead th {\n",
       "        text-align: right;\n",
       "    }\n",
       "</style>\n",
       "<table border=\"1\" class=\"dataframe\">\n",
       "  <thead>\n",
       "    <tr style=\"text-align: right;\">\n",
       "      <th></th>\n",
       "      <th>Timestamp</th>\n",
       "      <th>Email Address</th>\n",
       "      <th>Name of the Student</th>\n",
       "      <th>Roll of the Student</th>\n",
       "      <th>Number (Associated with Roll)</th>\n",
       "      <th>Date Attended Class</th>\n",
       "      <th>Subject Name</th>\n",
       "      <th>Your Feedback</th>\n",
       "      <th>WhatsApp Number</th>\n",
       "    </tr>\n",
       "  </thead>\n",
       "  <tbody>\n",
       "    <tr>\n",
       "      <th>0</th>\n",
       "      <td>2020-09-28 16:10:31.520</td>\n",
       "      <td>subhadipkarmakar104@gmail.com</td>\n",
       "      <td>subhadipkarmakar</td>\n",
       "      <td>20</td>\n",
       "      <td>20</td>\n",
       "      <td>2020-09-28</td>\n",
       "      <td>Electrical</td>\n",
       "      <td>Hi</td>\n",
       "      <td>NaN</td>\n",
       "    </tr>\n",
       "    <tr>\n",
       "      <th>1</th>\n",
       "      <td>2020-09-28 16:20:47.620</td>\n",
       "      <td>debashismondal2k@gmail.com</td>\n",
       "      <td>DEBASHIS MONDAL</td>\n",
       "      <td>10021971</td>\n",
       "      <td>NaN</td>\n",
       "      <td>2020-09-28</td>\n",
       "      <td>BASIS ELECTRONIC</td>\n",
       "      <td>NaN</td>\n",
       "      <td>NaN</td>\n",
       "    </tr>\n",
       "    <tr>\n",
       "      <th>2</th>\n",
       "      <td>2020-09-28 16:44:03.748</td>\n",
       "      <td>sayanpatra2001@gmail.com</td>\n",
       "      <td>Sayan patra</td>\n",
       "      <td>10021993</td>\n",
       "      <td>10021993</td>\n",
       "      <td>2020-09-28</td>\n",
       "      <td>Basic electronics</td>\n",
       "      <td>NaN</td>\n",
       "      <td>NaN</td>\n",
       "    </tr>\n",
       "    <tr>\n",
       "      <th>3</th>\n",
       "      <td>2020-09-28 16:45:53.970</td>\n",
       "      <td>sougataroy1451@gmail.com</td>\n",
       "      <td>Sougata Roy</td>\n",
       "      <td>10021997</td>\n",
       "      <td>NaN</td>\n",
       "      <td>2020-09-28</td>\n",
       "      <td>Basic Electronics</td>\n",
       "      <td>NaN</td>\n",
       "      <td>NaN</td>\n",
       "    </tr>\n",
       "    <tr>\n",
       "      <th>4</th>\n",
       "      <td>2020-09-28 16:47:40.752</td>\n",
       "      <td>sayansatpathy2003@gmail.com</td>\n",
       "      <td>Sayan satpathy</td>\n",
       "      <td>10021994</td>\n",
       "      <td>NaN</td>\n",
       "      <td>2020-09-28</td>\n",
       "      <td>Basic electronics</td>\n",
       "      <td>Good</td>\n",
       "      <td>NaN</td>\n",
       "    </tr>\n",
       "  </tbody>\n",
       "</table>\n",
       "</div>"
      ],
      "text/plain": [
       "                Timestamp                  Email Address Name of the Student  \\\n",
       "0 2020-09-28 16:10:31.520  subhadipkarmakar104@gmail.com    subhadipkarmakar   \n",
       "1 2020-09-28 16:20:47.620     debashismondal2k@gmail.com     DEBASHIS MONDAL   \n",
       "2 2020-09-28 16:44:03.748       sayanpatra2001@gmail.com         Sayan patra   \n",
       "3 2020-09-28 16:45:53.970       sougataroy1451@gmail.com         Sougata Roy   \n",
       "4 2020-09-28 16:47:40.752    sayansatpathy2003@gmail.com      Sayan satpathy   \n",
       "\n",
       "  Roll of the Student Number (Associated with Roll) Date Attended Class   \\\n",
       "0                  20                            20           2020-09-28   \n",
       "1            10021971                           NaN           2020-09-28   \n",
       "2            10021993                      10021993           2020-09-28   \n",
       "3            10021997                           NaN           2020-09-28   \n",
       "4            10021994                           NaN           2020-09-28   \n",
       "\n",
       "        Subject Name Your Feedback WhatsApp Number  \n",
       "0         Electrical            Hi             NaN  \n",
       "1   BASIS ELECTRONIC           NaN             NaN  \n",
       "2  Basic electronics           NaN             NaN  \n",
       "3  Basic Electronics           NaN             NaN  \n",
       "4  Basic electronics          Good             NaN  "
      ]
     },
     "execution_count": 6,
     "metadata": {},
     "output_type": "execute_result"
    }
   ],
   "source": [
    "df.head()"
   ]
  },
  {
   "cell_type": "code",
   "execution_count": 7,
   "metadata": {},
   "outputs": [],
   "source": [
    "Total=(df['Date Attended Class '].value_counts()>1).to_list().count(True)"
   ]
  },
  {
   "cell_type": "code",
   "execution_count": 8,
   "metadata": {},
   "outputs": [
    {
     "data": {
      "text/plain": [
       "13"
      ]
     },
     "execution_count": 8,
     "metadata": {},
     "output_type": "execute_result"
    }
   ],
   "source": [
    "Total"
   ]
  },
  {
   "cell_type": "code",
   "execution_count": 9,
   "metadata": {
    "scrolled": true
   },
   "outputs": [
    {
     "name": "stdout",
     "output_type": "stream",
     "text": [
      "Choose your Number system\n",
      "1: [10, 9, 8, 7, 6] \n",
      "2: [9, 8, 7, 6]\n",
      "3: [10, 8, 6] \n",
      "Enter your Marking option here \n",
      "2\n"
     ]
    }
   ],
   "source": [
    "print(\"Choose your Number system\")\n",
    "Marks=[[10,9,8,7,6],[9,8,7,6],[10, 8, 6]]\n",
    "print(f\"1: {Marks[0]} \\n2: {Marks[1]}\\n3: {Marks[2]} \")\n",
    "choice=int(input(\"Enter your Marking option here \\n\"))"
   ]
  },
  {
   "cell_type": "code",
   "execution_count": 10,
   "metadata": {},
   "outputs": [],
   "source": [
    "AttendancePercentage=(df['Name of the Student'].value_counts()/Total)*100"
   ]
  },
  {
   "cell_type": "code",
   "execution_count": 11,
   "metadata": {},
   "outputs": [],
   "source": [
    "#df1=pd.DataFrame(AttendancePercentage)"
   ]
  },
  {
   "cell_type": "code",
   "execution_count": 12,
   "metadata": {},
   "outputs": [
    {
     "data": {
      "text/plain": [
       "[92.3076923076923,\n",
       " 92.3076923076923,\n",
       " 84.61538461538461,\n",
       " 84.61538461538461,\n",
       " 84.61538461538461,\n",
       " 76.92307692307693,\n",
       " 69.23076923076923,\n",
       " 69.23076923076923,\n",
       " 69.23076923076923,\n",
       " 69.23076923076923,\n",
       " 61.53846153846154,\n",
       " 61.53846153846154,\n",
       " 61.53846153846154,\n",
       " 53.84615384615385,\n",
       " 46.15384615384615,\n",
       " 46.15384615384615,\n",
       " 46.15384615384615,\n",
       " 46.15384615384615,\n",
       " 38.46153846153847,\n",
       " 38.46153846153847,\n",
       " 38.46153846153847,\n",
       " 30.76923076923077,\n",
       " 30.76923076923077,\n",
       " 30.76923076923077,\n",
       " 30.76923076923077,\n",
       " 30.76923076923077,\n",
       " 23.076923076923077,\n",
       " 23.076923076923077,\n",
       " 23.076923076923077,\n",
       " 23.076923076923077,\n",
       " 23.076923076923077,\n",
       " 23.076923076923077,\n",
       " 23.076923076923077,\n",
       " 15.384615384615385,\n",
       " 15.384615384615385,\n",
       " 15.384615384615385,\n",
       " 15.384615384615385,\n",
       " 15.384615384615385,\n",
       " 15.384615384615385,\n",
       " 15.384615384615385,\n",
       " 15.384615384615385,\n",
       " 15.384615384615385,\n",
       " 15.384615384615385,\n",
       " 15.384615384615385,\n",
       " 15.384615384615385,\n",
       " 7.6923076923076925,\n",
       " 7.6923076923076925,\n",
       " 7.6923076923076925,\n",
       " 7.6923076923076925,\n",
       " 7.6923076923076925,\n",
       " 7.6923076923076925,\n",
       " 7.6923076923076925,\n",
       " 7.6923076923076925,\n",
       " 7.6923076923076925,\n",
       " 7.6923076923076925,\n",
       " 7.6923076923076925,\n",
       " 7.6923076923076925,\n",
       " 7.6923076923076925,\n",
       " 7.6923076923076925,\n",
       " 7.6923076923076925,\n",
       " 7.6923076923076925,\n",
       " 7.6923076923076925,\n",
       " 7.6923076923076925,\n",
       " 7.6923076923076925,\n",
       " 7.6923076923076925,\n",
       " 7.6923076923076925,\n",
       " 7.6923076923076925,\n",
       " 7.6923076923076925]"
      ]
     },
     "execution_count": 12,
     "metadata": {},
     "output_type": "execute_result"
    }
   ],
   "source": [
    "AttendancePercentage.tolist()"
   ]
  },
  {
   "cell_type": "code",
   "execution_count": 13,
   "metadata": {},
   "outputs": [
    {
     "data": {
      "text/plain": [
       "Index(['Tiyasa Paul', 'Milan Kumar Bag ', 'Sayan patra', 'Sudip jana',\n",
       "       'Surjyakanta Senapati ', 'Sougata Roy', 'Rupak Das', 'Kamaldip Bhakat',\n",
       "       'Prasenjit Kundu', 'Debgopal Das ', 'Kartik mandal', 'Biswajit pradhan',\n",
       "       'Subhra Ghosh', 'Sayan satpathy', 'Dayal ghosh', 'Subrata Manna',\n",
       "       'Subhadip karmakar', 'ARPAN DEY', 'Shubhadeep Dolui', 'Santanu Mondal',\n",
       "       'Subhadip Karmakar', 'Binay Marik', 'Nayan Singha', 'Janardan Mahata',\n",
       "       'Koushik patra', 'Debangsu Halder', 'Anirban maity', 'Sukumar mahata',\n",
       "       'Tuhin das', 'Sayan Satpathy', 'Ujjwal Satvaya', 'Supriya Das',\n",
       "       'DEBASHIS MONDAL', 'Arup bera', 'Amit adak', 'Saroj Chowdhury',\n",
       "       'MANGAL TUDU', 'Amit Adak', 'Buddhadev sahoo', 'asim kumar mudi',\n",
       "       'Biswajit Pradhan', 'Krishnendu Sing', 'Arpan pramanik',\n",
       "       'Sanjoy Mahakur', 'Kousik pal', 'Susanta Ghosh ', 'Subhra ghosh',\n",
       "       'saikat malik', 'Kartik mndal', 'DEBASHIS  MONDAL', 'subhadipkarmakar',\n",
       "       'Aswini kumar chakrabort', 'Sudip Jana ', 'DEBANGSU HALDER', 'Kousik t',\n",
       "       'Tiyasa paul', 'Buddhadev sahoo (voclet)', 'Tabarak Hossain',\n",
       "       'Arpan Dey', 'Debgopal Das', 'Debasis Rana ', 'Dayal Ghosh',\n",
       "       'Arup bera ', 'Sourav mandal', 'Ujjwal satvaya', 'SAROJ CHOWDHURY',\n",
       "       'Sourav Mandal', 'Arabinda Chattaraj'],\n",
       "      dtype='object')"
      ]
     },
     "execution_count": 13,
     "metadata": {},
     "output_type": "execute_result"
    }
   ],
   "source": [
    "AttendancePercentage.index"
   ]
  },
  {
   "cell_type": "code",
   "execution_count": 14,
   "metadata": {},
   "outputs": [],
   "source": [
    "#df1.columns"
   ]
  },
  {
   "cell_type": "code",
   "execution_count": 15,
   "metadata": {},
   "outputs": [],
   "source": [
    "#df1.index"
   ]
  },
  {
   "cell_type": "code",
   "execution_count": 16,
   "metadata": {},
   "outputs": [],
   "source": [
    "Marks=[]\n",
    "def one():\n",
    "    for i in AttendancePercentage.tolist():\n",
    "        if i>90:\n",
    "            Marks.append(10)\n",
    "        elif i>75:\n",
    "            Marks.append(9)\n",
    "        elif i>60:\n",
    "            Marks.append(8)\n",
    "        elif i>45:\n",
    "            Marks.append(7)\n",
    "        else:\n",
    "            Marks.append(6)\n",
    "        #else:\n",
    "           # Marks.append(5)\n",
    "def two():\n",
    "    for i in AttendancePercentage.tolist():\n",
    "        if i>90:\n",
    "            Marks.append(9)\n",
    "        elif i>75:\n",
    "            Marks.append(8)\n",
    "        elif i>60:\n",
    "            Marks.append(7)\n",
    "        else:\n",
    "            Marks.append(6)\n",
    "        #elif i>30:\n",
    "            #Marks.append(6)\n",
    "        #else:\n",
    "            #Marks.append(5)\n",
    "def three():\n",
    "    for i in AttendancePercentage.tolist():\n",
    "        if i>90:\n",
    "            Marks.append(10)\n",
    "        #elif i>75:\n",
    "            #Marks.append(9)\n",
    "        elif i>60:\n",
    "            Marks.append(8)\n",
    "        #elif i>45:\n",
    "            #Marks.append(7)\n",
    "        else :\n",
    "            Marks.append(6)\n",
    "        #else:\n",
    "            #Marks.append(5)            "
   ]
  },
  {
   "cell_type": "code",
   "execution_count": 17,
   "metadata": {},
   "outputs": [],
   "source": [
    "if choice==1:\n",
    "    one()\n",
    "elif choice==2:\n",
    "    two()\n",
    "elif choice==3:\n",
    "    three()\n",
    "else:\n",
    "    four()\n",
    "    "
   ]
  },
  {
   "cell_type": "code",
   "execution_count": 18,
   "metadata": {},
   "outputs": [],
   "source": [
    "df2=pd.DataFrame(data={'Name':AttendancePercentage.index,'Percentage':AttendancePercentage.tolist(),'Marks':Marks})"
   ]
  },
  {
   "cell_type": "code",
   "execution_count": 20,
   "metadata": {},
   "outputs": [
    {
     "name": "stdout",
     "output_type": "stream",
     "text": [
      "                     Name  Percentage  Marks\n",
      "0             Tiyasa Paul   92.307692      9\n",
      "1        Milan Kumar Bag    92.307692      9\n",
      "2             Sayan patra   84.615385      8\n",
      "3              Sudip jana   84.615385      8\n",
      "4   Surjyakanta Senapati    84.615385      8\n",
      "..                    ...         ...    ...\n",
      "63          Sourav mandal    7.692308      6\n",
      "64         Ujjwal satvaya    7.692308      6\n",
      "65        SAROJ CHOWDHURY    7.692308      6\n",
      "66          Sourav Mandal    7.692308      6\n",
      "67     Arabinda Chattaraj    7.692308      6\n",
      "\n",
      "[68 rows x 3 columns]\n"
     ]
    }
   ],
   "source": [
    "print(df2)"
   ]
  },
  {
   "cell_type": "code",
   "execution_count": 19,
   "metadata": {},
   "outputs": [
    {
     "name": "stdout",
     "output_type": "stream",
     "text": [
      "Enter the Path to save final file \n",
      "C:\\Users\\abhij\\ExeProject\\MarksByName.xlsx\n"
     ]
    }
   ],
   "source": [
    "path2=str(input(\"Enter the Path to save final file \\n\"))"
   ]
  },
  {
   "cell_type": "code",
   "execution_count": 21,
   "metadata": {},
   "outputs": [],
   "source": [
    "df2.to_excel(path2)\n"
   ]
  },
  {
   "cell_type": "code",
   "execution_count": 22,
   "metadata": {},
   "outputs": [
    {
     "name": "stdout",
     "output_type": "stream",
     "text": [
      "Want to check again?no\n"
     ]
    }
   ],
   "source": [
    "reCheck=str(input(\"Want to check again?\"))"
   ]
  },
  {
   "cell_type": "code",
   "execution_count": null,
   "metadata": {},
   "outputs": [],
   "source": []
  }
 ],
 "metadata": {
  "kernelspec": {
   "display_name": "Python 3",
   "language": "python",
   "name": "python3"
  },
  "language_info": {
   "codemirror_mode": {
    "name": "ipython",
    "version": 3
   },
   "file_extension": ".py",
   "mimetype": "text/x-python",
   "name": "python",
   "nbconvert_exporter": "python",
   "pygments_lexer": "ipython3",
   "version": "3.8.5"
  }
 },
 "nbformat": 4,
 "nbformat_minor": 4
}
